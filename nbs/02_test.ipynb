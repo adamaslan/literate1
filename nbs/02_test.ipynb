{
 "cells": [
  {
   "cell_type": "code",
   "execution_count": null,
   "metadata": {},
   "outputs": [
    {
     "ename": "ImportError",
     "evalue": "cannot import name 'NBProcessor' from 'nbprocess' (/opt/homebrew/Caskroom/miniforge/base/envs/lightrag/lib/python3.10/site-packages/nbprocess/__init__.py)",
     "output_type": "error",
     "traceback": [
      "\u001b[0;31m---------------------------------------------------------------------------\u001b[0m",
      "\u001b[0;31mImportError\u001b[0m                               Traceback (most recent call last)",
      "Cell \u001b[0;32mIn[4], line 2\u001b[0m\n\u001b[1;32m      1\u001b[0m \u001b[38;5;28;01mimport\u001b[39;00m\u001b[38;5;250m \u001b[39m\u001b[38;5;21;01myaml\u001b[39;00m\n\u001b[0;32m----> 2\u001b[0m \u001b[38;5;28;01mfrom\u001b[39;00m\u001b[38;5;250m \u001b[39m\u001b[38;5;21;01mnbprocess\u001b[39;00m\u001b[38;5;250m \u001b[39m\u001b[38;5;28;01mimport\u001b[39;00m NBProcessor, FrontmatterProc\n\u001b[1;32m      4\u001b[0m \u001b[38;5;66;03m# Define your notebook file\u001b[39;00m\n\u001b[1;32m      5\u001b[0m notebook_file \u001b[38;5;241m=\u001b[39m \u001b[38;5;124m\"\u001b[39m\u001b[38;5;124mtest_notebook.ipynb\u001b[39m\u001b[38;5;124m\"\u001b[39m\n",
      "\u001b[0;31mImportError\u001b[0m: cannot import name 'NBProcessor' from 'nbprocess' (/opt/homebrew/Caskroom/miniforge/base/envs/lightrag/lib/python3.10/site-packages/nbprocess/__init__.py)"
     ]
    }
   ],
   "source": [
    "#| hide\n",
    "import yaml\n",
    "from nbprocess import NBProcessor, FrontmatterProc\n",
    "\n",
    "# Define your notebook file\n",
    "notebook_file = \"test_notebook.ipynb\"\n",
    "\n",
    "# Process the notebook to extract and merge frontmatter\n",
    "nbp = NBProcessor(notebook_file, procs=[FrontmatterProc()])\n",
    "nbp.process()\n",
    "\n",
    "# Retrieve and update the frontmatter for GitHub Pages export\n",
    "frontmatter = nbp.nb.frontmatter_\n",
    "frontmatter['output-file'] = 'docs/index.html'\n",
    "\n",
    "# Print the updated frontmatter in YAML format\n",
    "print(\"Processed Frontmatter with GitHub Pages export:\\n\" + \"-\" * 40)\n",
    "print(yaml.dump(frontmatter, default_flow_style=False))\n",
    "\n",
    "# Optionally, uncomment the next line to build your docs:\n",
    "# !nbdev_build_docs\n"
   ]
  },
  {
   "cell_type": "code",
   "execution_count": 7,
   "metadata": {},
   "outputs": [
    {
     "data": {
      "text/plain": [
       "'Hello, yoooooo!'"
      ]
     },
     "execution_count": 7,
     "metadata": {},
     "output_type": "execute_result"
    }
   ],
   "source": [
    "#| export\n",
    "def say_hello(name):\n",
    "    \"Returns a greeting to the given name.\"\n",
    "    return f\"Hello, {name}!\"\n",
    "\n",
    "# Run the function to generate output\n",
    "say_hello(\"yoooooo\")\n"
   ]
  },
  {
   "cell_type": "code",
   "execution_count": null,
   "metadata": {},
   "outputs": [
    {
     "ename": "ModuleNotFoundError",
     "evalue": "No module named 'nbprocess.core'",
     "output_type": "error",
     "traceback": [
      "\u001b[0;31m---------------------------------------------------------------------------\u001b[0m",
      "\u001b[0;31mModuleNotFoundError\u001b[0m                       Traceback (most recent call last)",
      "Cell \u001b[0;32mIn[6], line 2\u001b[0m\n\u001b[1;32m      1\u001b[0m \u001b[38;5;28;01mimport\u001b[39;00m\u001b[38;5;250m \u001b[39m\u001b[38;5;21;01myaml\u001b[39;00m\n\u001b[0;32m----> 2\u001b[0m \u001b[38;5;28;01mfrom\u001b[39;00m\u001b[38;5;250m \u001b[39m\u001b[38;5;21;01mnbprocess\u001b[39;00m\u001b[38;5;21;01m.\u001b[39;00m\u001b[38;5;21;01mcore\u001b[39;00m\u001b[38;5;250m \u001b[39m\u001b[38;5;28;01mimport\u001b[39;00m Notebook\n\u001b[1;32m      3\u001b[0m \u001b[38;5;28;01mfrom\u001b[39;00m\u001b[38;5;250m \u001b[39m\u001b[38;5;21;01mnbprocess\u001b[39;00m\u001b[38;5;21;01m.\u001b[39;00m\u001b[38;5;21;01mprocessors\u001b[39;00m\u001b[38;5;21;01m.\u001b[39;00m\u001b[38;5;21;01mfrontmatter\u001b[39;00m\u001b[38;5;250m \u001b[39m\u001b[38;5;28;01mimport\u001b[39;00m FrontmatterProc\n\u001b[1;32m      5\u001b[0m \u001b[38;5;66;03m# Define your notebook file\u001b[39;00m\n",
      "\u001b[0;31mModuleNotFoundError\u001b[0m: No module named 'nbprocess.core'"
     ]
    }
   ],
   "source": [
    "#| hide\n",
    "import yaml\n",
    "from nbprocess.core import Notebook\n",
    "from nbprocess.processors.frontmatter import FrontmatterProc\n",
    "\n",
    "# Define your notebook file\n",
    "notebook_file = \"test_notebook.ipynb\"\n",
    "\n",
    "# Create a Notebook instance with the FrontmatterProc processor\n",
    "nb = Notebook(notebook_file, processors=[FrontmatterProc()])\n",
    "nb.process()\n",
    "\n",
    "# Update the frontmatter to export to GitHub Pages (using docs/index.html as the output file)\n",
    "nb.frontmatter['output-file'] = 'docs/index.html'\n",
    "\n",
    "# Add custom CSS to change the background color to lightgreen\n",
    "# (Assuming your site builder/template uses the 'css' key to inject styles)\n",
    "nb.frontmatter['css'] = 'body { background-color: lightgreen; }'\n",
    "\n",
    "# Print the updated frontmatter in YAML format for clarity\n",
    "print(\"Processed Frontmatter with GitHub Pages export:\\n\" + \"-\" * 40)\n",
    "print(yaml.dump(nb.frontmatter, default_flow_style=False))\n",
    "\n",
    "# Optionally, uncomment the next line to build your docs:\n",
    "# !nbdev_build_docs\n"
   ]
  }
 ],
 "metadata": {
  "kernelspec": {
   "display_name": "lightrag",
   "language": "python",
   "name": "python3"
  },
  "language_info": {
   "codemirror_mode": {
    "name": "ipython",
    "version": 3
   },
   "file_extension": ".py",
   "mimetype": "text/x-python",
   "name": "python",
   "nbconvert_exporter": "python",
   "pygments_lexer": "ipython3",
   "version": "3.10.16"
  }
 },
 "nbformat": 4,
 "nbformat_minor": 2
}
